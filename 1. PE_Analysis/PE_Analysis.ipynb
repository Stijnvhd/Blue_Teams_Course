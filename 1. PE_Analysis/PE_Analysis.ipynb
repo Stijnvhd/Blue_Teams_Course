{
 "cells": [
  {
   "cell_type": "code",
   "execution_count": 4,
   "id": "ba89fb4a",
   "metadata": {},
   "outputs": [
    {
     "data": {
      "text/html": [
       "<div>\n",
       "<style scoped>\n",
       "    .dataframe tbody tr th:only-of-type {\n",
       "        vertical-align: middle;\n",
       "    }\n",
       "\n",
       "    .dataframe tbody tr th {\n",
       "        vertical-align: top;\n",
       "    }\n",
       "\n",
       "    .dataframe thead th {\n",
       "        text-align: right;\n",
       "    }\n",
       "</style>\n",
       "<table border=\"1\" class=\"dataframe\">\n",
       "  <thead>\n",
       "    <tr style=\"text-align: right;\">\n",
       "      <th></th>\n",
       "      <th>hash</th>\n",
       "      <th>size_of_data</th>\n",
       "      <th>virtual_address</th>\n",
       "      <th>entropy</th>\n",
       "      <th>virtual_size</th>\n",
       "      <th>malware</th>\n",
       "    </tr>\n",
       "  </thead>\n",
       "  <tbody>\n",
       "    <tr>\n",
       "      <th>0</th>\n",
       "      <td>071e8c3f8922e186e57548cd4c703a5d</td>\n",
       "      <td>443392</td>\n",
       "      <td>4096</td>\n",
       "      <td>6.529624</td>\n",
       "      <td>442984</td>\n",
       "      <td>1</td>\n",
       "    </tr>\n",
       "    <tr>\n",
       "      <th>1</th>\n",
       "      <td>33f8e6d08a6aae939f25a8e0d63dd523</td>\n",
       "      <td>331264</td>\n",
       "      <td>4096</td>\n",
       "      <td>6.604314</td>\n",
       "      <td>330784</td>\n",
       "      <td>1</td>\n",
       "    </tr>\n",
       "    <tr>\n",
       "      <th>2</th>\n",
       "      <td>b68abd064e975e1c6d5f25e748663076</td>\n",
       "      <td>74240</td>\n",
       "      <td>4096</td>\n",
       "      <td>6.046789</td>\n",
       "      <td>73819</td>\n",
       "      <td>1</td>\n",
       "    </tr>\n",
       "    <tr>\n",
       "      <th>3</th>\n",
       "      <td>72049be7bd30ea61297ea624ae198067</td>\n",
       "      <td>219648</td>\n",
       "      <td>4096</td>\n",
       "      <td>6.497018</td>\n",
       "      <td>219524</td>\n",
       "      <td>1</td>\n",
       "    </tr>\n",
       "    <tr>\n",
       "      <th>4</th>\n",
       "      <td>c9b3700a77facf29172f32df6bc77f48</td>\n",
       "      <td>262144</td>\n",
       "      <td>4096</td>\n",
       "      <td>6.638142</td>\n",
       "      <td>261943</td>\n",
       "      <td>1</td>\n",
       "    </tr>\n",
       "  </tbody>\n",
       "</table>\n",
       "</div>"
      ],
      "text/plain": [
       "                               hash  size_of_data  virtual_address   entropy  \\\n",
       "0  071e8c3f8922e186e57548cd4c703a5d        443392             4096  6.529624   \n",
       "1  33f8e6d08a6aae939f25a8e0d63dd523        331264             4096  6.604314   \n",
       "2  b68abd064e975e1c6d5f25e748663076         74240             4096  6.046789   \n",
       "3  72049be7bd30ea61297ea624ae198067        219648             4096  6.497018   \n",
       "4  c9b3700a77facf29172f32df6bc77f48        262144             4096  6.638142   \n",
       "\n",
       "   virtual_size  malware  \n",
       "0        442984        1  \n",
       "1        330784        1  \n",
       "2         73819        1  \n",
       "3        219524        1  \n",
       "4        261943        1  "
      ]
     },
     "execution_count": 4,
     "metadata": {},
     "output_type": "execute_result"
    }
   ],
   "source": [
    "import numpy as np \n",
    "import pandas as pd \n",
    "\n",
    "PE_SH = pd.read_csv(r\"C:\\Users\\HP\\Desktop\\Oreilly\\Blue Team\\PE_Analysis\\pe_section_headers.csv\",header = 0)\n",
    "PE_SH.head()"
   ]
  },
  {
   "cell_type": "code",
   "execution_count": 5,
   "id": "41453ccd",
   "metadata": {},
   "outputs": [
    {
     "data": {
      "text/html": [
       "<div>\n",
       "<style scoped>\n",
       "    .dataframe tbody tr th:only-of-type {\n",
       "        vertical-align: middle;\n",
       "    }\n",
       "\n",
       "    .dataframe tbody tr th {\n",
       "        vertical-align: top;\n",
       "    }\n",
       "\n",
       "    .dataframe thead th {\n",
       "        text-align: right;\n",
       "    }\n",
       "</style>\n",
       "<table border=\"1\" class=\"dataframe\">\n",
       "  <thead>\n",
       "    <tr style=\"text-align: right;\">\n",
       "      <th></th>\n",
       "      <th>hash</th>\n",
       "      <th>size_of_data</th>\n",
       "      <th>virtual_address</th>\n",
       "      <th>entropy</th>\n",
       "      <th>virtual_size</th>\n",
       "      <th>malware</th>\n",
       "    </tr>\n",
       "  </thead>\n",
       "  <tbody>\n",
       "    <tr>\n",
       "      <th>0</th>\n",
       "      <td>4a36c8a5e1950cf8fb7858bbfc94912b</td>\n",
       "      <td>286720</td>\n",
       "      <td>4096</td>\n",
       "      <td>6.585726</td>\n",
       "      <td>286359</td>\n",
       "      <td>1</td>\n",
       "    </tr>\n",
       "    <tr>\n",
       "      <th>1</th>\n",
       "      <td>43bf106b1aa189081be308c8ce4576c9</td>\n",
       "      <td>81920</td>\n",
       "      <td>4096</td>\n",
       "      <td>6.885705</td>\n",
       "      <td>79280</td>\n",
       "      <td>1</td>\n",
       "    </tr>\n",
       "    <tr>\n",
       "      <th>2</th>\n",
       "      <td>bd0d17f92ea4b68e224ecb5d4055be57</td>\n",
       "      <td>633344</td>\n",
       "      <td>4096</td>\n",
       "      <td>6.715423</td>\n",
       "      <td>632890</td>\n",
       "      <td>1</td>\n",
       "    </tr>\n",
       "    <tr>\n",
       "      <th>3</th>\n",
       "      <td>0c50b194183ae146db14ff37cd142226</td>\n",
       "      <td>2270720</td>\n",
       "      <td>4096</td>\n",
       "      <td>6.541042</td>\n",
       "      <td>2270524</td>\n",
       "      <td>1</td>\n",
       "    </tr>\n",
       "    <tr>\n",
       "      <th>4</th>\n",
       "      <td>0f76ab5552383c4393e06d2de075657e</td>\n",
       "      <td>172032</td>\n",
       "      <td>4096</td>\n",
       "      <td>6.529791</td>\n",
       "      <td>168834</td>\n",
       "      <td>1</td>\n",
       "    </tr>\n",
       "  </tbody>\n",
       "</table>\n",
       "</div>"
      ],
      "text/plain": [
       "                               hash  size_of_data  virtual_address   entropy  \\\n",
       "0  4a36c8a5e1950cf8fb7858bbfc94912b        286720             4096  6.585726   \n",
       "1  43bf106b1aa189081be308c8ce4576c9         81920             4096  6.885705   \n",
       "2  bd0d17f92ea4b68e224ecb5d4055be57        633344             4096  6.715423   \n",
       "3  0c50b194183ae146db14ff37cd142226       2270720             4096  6.541042   \n",
       "4  0f76ab5552383c4393e06d2de075657e        172032             4096  6.529791   \n",
       "\n",
       "   virtual_size  malware  \n",
       "0        286359        1  \n",
       "1         79280        1  \n",
       "2        632890        1  \n",
       "3       2270524        1  \n",
       "4        168834        1  "
      ]
     },
     "execution_count": 5,
     "metadata": {},
     "output_type": "execute_result"
    }
   ],
   "source": [
    "PE_SH = PE_SH.sample(frac=1).reset_index(drop=True)\n",
    "PE_SH.head()"
   ]
  },
  {
   "cell_type": "markdown",
   "id": "4790d26a",
   "metadata": {},
   "source": [
    "This dataset is part of PhD research on malware detection and classification using Deep Learning. It contains static analysis data (Top-1000 imported functions) extracted from the 'pe_imports' elements of Cuckoo Sandbox reports. PE malware examples were downloaded from virusshare.com. PE goodware examples were downloaded from portableapps.com and from Windows 7 x86 directories"
   ]
  },
  {
   "cell_type": "code",
   "execution_count": 6,
   "id": "aa4bb79e",
   "metadata": {},
   "outputs": [
    {
     "data": {
      "text/html": [
       "<div>\n",
       "<style scoped>\n",
       "    .dataframe tbody tr th:only-of-type {\n",
       "        vertical-align: middle;\n",
       "    }\n",
       "\n",
       "    .dataframe tbody tr th {\n",
       "        vertical-align: top;\n",
       "    }\n",
       "\n",
       "    .dataframe thead th {\n",
       "        text-align: right;\n",
       "    }\n",
       "</style>\n",
       "<table border=\"1\" class=\"dataframe\">\n",
       "  <thead>\n",
       "    <tr style=\"text-align: right;\">\n",
       "      <th></th>\n",
       "      <th>hash</th>\n",
       "      <th>GetProcAddress</th>\n",
       "      <th>ExitProcess</th>\n",
       "      <th>WriteFile</th>\n",
       "      <th>GetLastError</th>\n",
       "      <th>CloseHandle</th>\n",
       "      <th>FreeLibrary</th>\n",
       "      <th>Sleep</th>\n",
       "      <th>GetStdHandle</th>\n",
       "      <th>MultiByteToWideChar</th>\n",
       "      <th>...</th>\n",
       "      <th>bind</th>\n",
       "      <th>RegEnumKeyExA</th>\n",
       "      <th>WinHttpOpen</th>\n",
       "      <th>_controlfp</th>\n",
       "      <th>WinExec</th>\n",
       "      <th>GetSecurityDescriptorDacl</th>\n",
       "      <th>FindFirstFreeAce</th>\n",
       "      <th>GetTimeFormatW</th>\n",
       "      <th>LookupAccountSidW</th>\n",
       "      <th>malware</th>\n",
       "    </tr>\n",
       "  </thead>\n",
       "  <tbody>\n",
       "    <tr>\n",
       "      <th>0</th>\n",
       "      <td>071e8c3f8922e186e57548cd4c703a5d</td>\n",
       "      <td>1</td>\n",
       "      <td>1</td>\n",
       "      <td>1</td>\n",
       "      <td>1</td>\n",
       "      <td>1</td>\n",
       "      <td>1</td>\n",
       "      <td>1</td>\n",
       "      <td>1</td>\n",
       "      <td>1</td>\n",
       "      <td>...</td>\n",
       "      <td>0</td>\n",
       "      <td>0</td>\n",
       "      <td>0</td>\n",
       "      <td>0</td>\n",
       "      <td>0</td>\n",
       "      <td>0</td>\n",
       "      <td>0</td>\n",
       "      <td>0</td>\n",
       "      <td>0</td>\n",
       "      <td>1</td>\n",
       "    </tr>\n",
       "    <tr>\n",
       "      <th>1</th>\n",
       "      <td>33f8e6d08a6aae939f25a8e0d63dd523</td>\n",
       "      <td>1</td>\n",
       "      <td>1</td>\n",
       "      <td>1</td>\n",
       "      <td>1</td>\n",
       "      <td>1</td>\n",
       "      <td>1</td>\n",
       "      <td>1</td>\n",
       "      <td>1</td>\n",
       "      <td>1</td>\n",
       "      <td>...</td>\n",
       "      <td>0</td>\n",
       "      <td>0</td>\n",
       "      <td>0</td>\n",
       "      <td>0</td>\n",
       "      <td>0</td>\n",
       "      <td>0</td>\n",
       "      <td>0</td>\n",
       "      <td>0</td>\n",
       "      <td>0</td>\n",
       "      <td>1</td>\n",
       "    </tr>\n",
       "    <tr>\n",
       "      <th>2</th>\n",
       "      <td>b68abd064e975e1c6d5f25e748663076</td>\n",
       "      <td>1</td>\n",
       "      <td>1</td>\n",
       "      <td>1</td>\n",
       "      <td>1</td>\n",
       "      <td>1</td>\n",
       "      <td>0</td>\n",
       "      <td>1</td>\n",
       "      <td>0</td>\n",
       "      <td>1</td>\n",
       "      <td>...</td>\n",
       "      <td>0</td>\n",
       "      <td>1</td>\n",
       "      <td>0</td>\n",
       "      <td>0</td>\n",
       "      <td>0</td>\n",
       "      <td>0</td>\n",
       "      <td>0</td>\n",
       "      <td>0</td>\n",
       "      <td>0</td>\n",
       "      <td>1</td>\n",
       "    </tr>\n",
       "    <tr>\n",
       "      <th>3</th>\n",
       "      <td>72049be7bd30ea61297ea624ae198067</td>\n",
       "      <td>1</td>\n",
       "      <td>1</td>\n",
       "      <td>1</td>\n",
       "      <td>1</td>\n",
       "      <td>0</td>\n",
       "      <td>0</td>\n",
       "      <td>1</td>\n",
       "      <td>1</td>\n",
       "      <td>1</td>\n",
       "      <td>...</td>\n",
       "      <td>0</td>\n",
       "      <td>0</td>\n",
       "      <td>0</td>\n",
       "      <td>0</td>\n",
       "      <td>0</td>\n",
       "      <td>0</td>\n",
       "      <td>0</td>\n",
       "      <td>0</td>\n",
       "      <td>0</td>\n",
       "      <td>1</td>\n",
       "    </tr>\n",
       "    <tr>\n",
       "      <th>4</th>\n",
       "      <td>c9b3700a77facf29172f32df6bc77f48</td>\n",
       "      <td>1</td>\n",
       "      <td>1</td>\n",
       "      <td>1</td>\n",
       "      <td>1</td>\n",
       "      <td>1</td>\n",
       "      <td>1</td>\n",
       "      <td>1</td>\n",
       "      <td>1</td>\n",
       "      <td>1</td>\n",
       "      <td>...</td>\n",
       "      <td>0</td>\n",
       "      <td>0</td>\n",
       "      <td>0</td>\n",
       "      <td>0</td>\n",
       "      <td>0</td>\n",
       "      <td>0</td>\n",
       "      <td>0</td>\n",
       "      <td>0</td>\n",
       "      <td>0</td>\n",
       "      <td>1</td>\n",
       "    </tr>\n",
       "  </tbody>\n",
       "</table>\n",
       "<p>5 rows × 1002 columns</p>\n",
       "</div>"
      ],
      "text/plain": [
       "                               hash  GetProcAddress  ExitProcess  WriteFile  \\\n",
       "0  071e8c3f8922e186e57548cd4c703a5d               1            1          1   \n",
       "1  33f8e6d08a6aae939f25a8e0d63dd523               1            1          1   \n",
       "2  b68abd064e975e1c6d5f25e748663076               1            1          1   \n",
       "3  72049be7bd30ea61297ea624ae198067               1            1          1   \n",
       "4  c9b3700a77facf29172f32df6bc77f48               1            1          1   \n",
       "\n",
       "   GetLastError  CloseHandle  FreeLibrary  Sleep  GetStdHandle  \\\n",
       "0             1            1            1      1             1   \n",
       "1             1            1            1      1             1   \n",
       "2             1            1            0      1             0   \n",
       "3             1            0            0      1             1   \n",
       "4             1            1            1      1             1   \n",
       "\n",
       "   MultiByteToWideChar  ...  bind  RegEnumKeyExA  WinHttpOpen  _controlfp  \\\n",
       "0                    1  ...     0              0            0           0   \n",
       "1                    1  ...     0              0            0           0   \n",
       "2                    1  ...     0              1            0           0   \n",
       "3                    1  ...     0              0            0           0   \n",
       "4                    1  ...     0              0            0           0   \n",
       "\n",
       "   WinExec  GetSecurityDescriptorDacl  FindFirstFreeAce  GetTimeFormatW  \\\n",
       "0        0                          0                 0               0   \n",
       "1        0                          0                 0               0   \n",
       "2        0                          0                 0               0   \n",
       "3        0                          0                 0               0   \n",
       "4        0                          0                 0               0   \n",
       "\n",
       "   LookupAccountSidW  malware  \n",
       "0                  0        1  \n",
       "1                  0        1  \n",
       "2                  0        1  \n",
       "3                  0        1  \n",
       "4                  0        1  \n",
       "\n",
       "[5 rows x 1002 columns]"
      ]
     },
     "execution_count": 6,
     "metadata": {},
     "output_type": "execute_result"
    }
   ],
   "source": [
    "PE_I = pd.read_csv(r\"C:\\Users\\HP\\Desktop\\Oreilly\\Blue Team\\PE_Analysis/top_1000_pe_imports.csv\",header = 0)\n",
    "PE_I.head()"
   ]
  },
  {
   "cell_type": "code",
   "execution_count": 7,
   "id": "2011c404",
   "metadata": {},
   "outputs": [
    {
     "data": {
      "text/html": [
       "<div>\n",
       "<style scoped>\n",
       "    .dataframe tbody tr th:only-of-type {\n",
       "        vertical-align: middle;\n",
       "    }\n",
       "\n",
       "    .dataframe tbody tr th {\n",
       "        vertical-align: top;\n",
       "    }\n",
       "\n",
       "    .dataframe thead th {\n",
       "        text-align: right;\n",
       "    }\n",
       "</style>\n",
       "<table border=\"1\" class=\"dataframe\">\n",
       "  <thead>\n",
       "    <tr style=\"text-align: right;\">\n",
       "      <th></th>\n",
       "      <th>hash</th>\n",
       "      <th>GetProcAddress</th>\n",
       "      <th>ExitProcess</th>\n",
       "      <th>WriteFile</th>\n",
       "      <th>GetLastError</th>\n",
       "      <th>CloseHandle</th>\n",
       "      <th>FreeLibrary</th>\n",
       "      <th>Sleep</th>\n",
       "      <th>GetStdHandle</th>\n",
       "      <th>MultiByteToWideChar</th>\n",
       "      <th>...</th>\n",
       "      <th>bind</th>\n",
       "      <th>RegEnumKeyExA</th>\n",
       "      <th>WinHttpOpen</th>\n",
       "      <th>_controlfp</th>\n",
       "      <th>WinExec</th>\n",
       "      <th>GetSecurityDescriptorDacl</th>\n",
       "      <th>FindFirstFreeAce</th>\n",
       "      <th>GetTimeFormatW</th>\n",
       "      <th>LookupAccountSidW</th>\n",
       "      <th>malware</th>\n",
       "    </tr>\n",
       "  </thead>\n",
       "  <tbody>\n",
       "    <tr>\n",
       "      <th>0</th>\n",
       "      <td>3dcacb750f0b32c91aa3deb32ded9719</td>\n",
       "      <td>1</td>\n",
       "      <td>1</td>\n",
       "      <td>1</td>\n",
       "      <td>1</td>\n",
       "      <td>1</td>\n",
       "      <td>1</td>\n",
       "      <td>0</td>\n",
       "      <td>1</td>\n",
       "      <td>1</td>\n",
       "      <td>...</td>\n",
       "      <td>0</td>\n",
       "      <td>0</td>\n",
       "      <td>0</td>\n",
       "      <td>0</td>\n",
       "      <td>0</td>\n",
       "      <td>0</td>\n",
       "      <td>0</td>\n",
       "      <td>0</td>\n",
       "      <td>0</td>\n",
       "      <td>1</td>\n",
       "    </tr>\n",
       "    <tr>\n",
       "      <th>1</th>\n",
       "      <td>9f47b49c8c37ccb5101543204152c887</td>\n",
       "      <td>1</td>\n",
       "      <td>1</td>\n",
       "      <td>1</td>\n",
       "      <td>1</td>\n",
       "      <td>1</td>\n",
       "      <td>1</td>\n",
       "      <td>1</td>\n",
       "      <td>1</td>\n",
       "      <td>1</td>\n",
       "      <td>...</td>\n",
       "      <td>0</td>\n",
       "      <td>1</td>\n",
       "      <td>0</td>\n",
       "      <td>0</td>\n",
       "      <td>0</td>\n",
       "      <td>0</td>\n",
       "      <td>0</td>\n",
       "      <td>0</td>\n",
       "      <td>0</td>\n",
       "      <td>1</td>\n",
       "    </tr>\n",
       "    <tr>\n",
       "      <th>2</th>\n",
       "      <td>eba1ae7823e76cdfbe868c631fb73124</td>\n",
       "      <td>1</td>\n",
       "      <td>1</td>\n",
       "      <td>1</td>\n",
       "      <td>1</td>\n",
       "      <td>1</td>\n",
       "      <td>1</td>\n",
       "      <td>1</td>\n",
       "      <td>1</td>\n",
       "      <td>1</td>\n",
       "      <td>...</td>\n",
       "      <td>0</td>\n",
       "      <td>0</td>\n",
       "      <td>0</td>\n",
       "      <td>0</td>\n",
       "      <td>0</td>\n",
       "      <td>0</td>\n",
       "      <td>0</td>\n",
       "      <td>0</td>\n",
       "      <td>0</td>\n",
       "      <td>1</td>\n",
       "    </tr>\n",
       "    <tr>\n",
       "      <th>3</th>\n",
       "      <td>8bece537a1a292a59f81985fa29ee37c</td>\n",
       "      <td>1</td>\n",
       "      <td>1</td>\n",
       "      <td>0</td>\n",
       "      <td>0</td>\n",
       "      <td>0</td>\n",
       "      <td>0</td>\n",
       "      <td>0</td>\n",
       "      <td>0</td>\n",
       "      <td>0</td>\n",
       "      <td>...</td>\n",
       "      <td>0</td>\n",
       "      <td>0</td>\n",
       "      <td>0</td>\n",
       "      <td>0</td>\n",
       "      <td>0</td>\n",
       "      <td>0</td>\n",
       "      <td>0</td>\n",
       "      <td>0</td>\n",
       "      <td>0</td>\n",
       "      <td>0</td>\n",
       "    </tr>\n",
       "    <tr>\n",
       "      <th>4</th>\n",
       "      <td>3f792ce0dc45329e0d4aa8e2e91c6ea9</td>\n",
       "      <td>1</td>\n",
       "      <td>1</td>\n",
       "      <td>0</td>\n",
       "      <td>0</td>\n",
       "      <td>0</td>\n",
       "      <td>0</td>\n",
       "      <td>0</td>\n",
       "      <td>0</td>\n",
       "      <td>0</td>\n",
       "      <td>...</td>\n",
       "      <td>0</td>\n",
       "      <td>0</td>\n",
       "      <td>1</td>\n",
       "      <td>0</td>\n",
       "      <td>0</td>\n",
       "      <td>0</td>\n",
       "      <td>0</td>\n",
       "      <td>0</td>\n",
       "      <td>0</td>\n",
       "      <td>1</td>\n",
       "    </tr>\n",
       "  </tbody>\n",
       "</table>\n",
       "<p>5 rows × 1002 columns</p>\n",
       "</div>"
      ],
      "text/plain": [
       "                               hash  GetProcAddress  ExitProcess  WriteFile  \\\n",
       "0  3dcacb750f0b32c91aa3deb32ded9719               1            1          1   \n",
       "1  9f47b49c8c37ccb5101543204152c887               1            1          1   \n",
       "2  eba1ae7823e76cdfbe868c631fb73124               1            1          1   \n",
       "3  8bece537a1a292a59f81985fa29ee37c               1            1          0   \n",
       "4  3f792ce0dc45329e0d4aa8e2e91c6ea9               1            1          0   \n",
       "\n",
       "   GetLastError  CloseHandle  FreeLibrary  Sleep  GetStdHandle  \\\n",
       "0             1            1            1      0             1   \n",
       "1             1            1            1      1             1   \n",
       "2             1            1            1      1             1   \n",
       "3             0            0            0      0             0   \n",
       "4             0            0            0      0             0   \n",
       "\n",
       "   MultiByteToWideChar  ...  bind  RegEnumKeyExA  WinHttpOpen  _controlfp  \\\n",
       "0                    1  ...     0              0            0           0   \n",
       "1                    1  ...     0              1            0           0   \n",
       "2                    1  ...     0              0            0           0   \n",
       "3                    0  ...     0              0            0           0   \n",
       "4                    0  ...     0              0            1           0   \n",
       "\n",
       "   WinExec  GetSecurityDescriptorDacl  FindFirstFreeAce  GetTimeFormatW  \\\n",
       "0        0                          0                 0               0   \n",
       "1        0                          0                 0               0   \n",
       "2        0                          0                 0               0   \n",
       "3        0                          0                 0               0   \n",
       "4        0                          0                 0               0   \n",
       "\n",
       "   LookupAccountSidW  malware  \n",
       "0                  0        1  \n",
       "1                  0        1  \n",
       "2                  0        1  \n",
       "3                  0        0  \n",
       "4                  0        1  \n",
       "\n",
       "[5 rows x 1002 columns]"
      ]
     },
     "execution_count": 7,
     "metadata": {},
     "output_type": "execute_result"
    }
   ],
   "source": [
    "PE_I = PE_I.sample(frac=1).reset_index(drop=True)\n",
    "PE_I.head()"
   ]
  },
  {
   "cell_type": "code",
   "execution_count": 8,
   "id": "83d7bb70",
   "metadata": {},
   "outputs": [
    {
     "data": {
      "text/plain": [
       "Index(['hash', 'size_of_data', 'virtual_address', 'entropy', 'virtual_size',\n",
       "       'malware'],\n",
       "      dtype='object')"
      ]
     },
     "execution_count": 8,
     "metadata": {},
     "output_type": "execute_result"
    }
   ],
   "source": [
    "PE_SH.columns"
   ]
  },
  {
   "cell_type": "code",
   "execution_count": 9,
   "id": "cb0871c9",
   "metadata": {},
   "outputs": [
    {
     "data": {
      "text/html": [
       "<div>\n",
       "<style scoped>\n",
       "    .dataframe tbody tr th:only-of-type {\n",
       "        vertical-align: middle;\n",
       "    }\n",
       "\n",
       "    .dataframe tbody tr th {\n",
       "        vertical-align: top;\n",
       "    }\n",
       "\n",
       "    .dataframe thead th {\n",
       "        text-align: right;\n",
       "    }\n",
       "</style>\n",
       "<table border=\"1\" class=\"dataframe\">\n",
       "  <thead>\n",
       "    <tr style=\"text-align: right;\">\n",
       "      <th></th>\n",
       "      <th>size_of_data</th>\n",
       "      <th>virtual_address</th>\n",
       "      <th>entropy</th>\n",
       "      <th>virtual_size</th>\n",
       "      <th>malware</th>\n",
       "    </tr>\n",
       "  </thead>\n",
       "  <tbody>\n",
       "    <tr>\n",
       "      <th>0</th>\n",
       "      <td>286720</td>\n",
       "      <td>4096</td>\n",
       "      <td>6.585726</td>\n",
       "      <td>286359</td>\n",
       "      <td>1</td>\n",
       "    </tr>\n",
       "    <tr>\n",
       "      <th>1</th>\n",
       "      <td>81920</td>\n",
       "      <td>4096</td>\n",
       "      <td>6.885705</td>\n",
       "      <td>79280</td>\n",
       "      <td>1</td>\n",
       "    </tr>\n",
       "    <tr>\n",
       "      <th>2</th>\n",
       "      <td>633344</td>\n",
       "      <td>4096</td>\n",
       "      <td>6.715423</td>\n",
       "      <td>632890</td>\n",
       "      <td>1</td>\n",
       "    </tr>\n",
       "    <tr>\n",
       "      <th>3</th>\n",
       "      <td>2270720</td>\n",
       "      <td>4096</td>\n",
       "      <td>6.541042</td>\n",
       "      <td>2270524</td>\n",
       "      <td>1</td>\n",
       "    </tr>\n",
       "    <tr>\n",
       "      <th>4</th>\n",
       "      <td>172032</td>\n",
       "      <td>4096</td>\n",
       "      <td>6.529791</td>\n",
       "      <td>168834</td>\n",
       "      <td>1</td>\n",
       "    </tr>\n",
       "  </tbody>\n",
       "</table>\n",
       "</div>"
      ],
      "text/plain": [
       "   size_of_data  virtual_address   entropy  virtual_size  malware\n",
       "0        286720             4096  6.585726        286359        1\n",
       "1         81920             4096  6.885705         79280        1\n",
       "2        633344             4096  6.715423        632890        1\n",
       "3       2270720             4096  6.541042       2270524        1\n",
       "4        172032             4096  6.529791        168834        1"
      ]
     },
     "execution_count": 9,
     "metadata": {},
     "output_type": "execute_result"
    }
   ],
   "source": [
    "PE_SH = PE_SH.drop(labels = [\"hash\"], axis = 1)\n",
    "PE_SH.head()"
   ]
  },
  {
   "cell_type": "markdown",
   "id": "7dacbd16",
   "metadata": {},
   "source": [
    "MinMax: Transform features by scaling each feature to a given range. This estimator scales and translates each feature individually such that it is in the given range on the training set, e.g. between zero and one.\n",
    "\n",
    "fit_transform: Fit to data, then transform it. Fits transformer to X and y with optional parameters fit_params and returns a transformed version of X."
   ]
  },
  {
   "cell_type": "code",
   "execution_count": 10,
   "id": "3db0b58f",
   "metadata": {},
   "outputs": [],
   "source": [
    "from sklearn import preprocessing\n",
    "\n",
    "x = PE_SH.values\n",
    "min_max_scaler = preprocessing.MinMaxScaler()\n",
    "x_scaled = min_max_scaler.fit_transform(x)\n",
    "PE_SH = pd.DataFrame(x_scaled)"
   ]
  },
  {
   "cell_type": "code",
   "execution_count": 11,
   "id": "6ab918cb",
   "metadata": {},
   "outputs": [
    {
     "data": {
      "text/html": [
       "<div>\n",
       "<style scoped>\n",
       "    .dataframe tbody tr th:only-of-type {\n",
       "        vertical-align: middle;\n",
       "    }\n",
       "\n",
       "    .dataframe tbody tr th {\n",
       "        vertical-align: top;\n",
       "    }\n",
       "\n",
       "    .dataframe thead th {\n",
       "        text-align: right;\n",
       "    }\n",
       "</style>\n",
       "<table border=\"1\" class=\"dataframe\">\n",
       "  <thead>\n",
       "    <tr style=\"text-align: right;\">\n",
       "      <th></th>\n",
       "      <th>0</th>\n",
       "      <th>1</th>\n",
       "      <th>2</th>\n",
       "      <th>3</th>\n",
       "      <th>4</th>\n",
       "    </tr>\n",
       "  </thead>\n",
       "  <tbody>\n",
       "    <tr>\n",
       "      <th>0</th>\n",
       "      <td>0.005414</td>\n",
       "      <td>0.0</td>\n",
       "      <td>0.823219</td>\n",
       "      <td>0.005407</td>\n",
       "      <td>1.0</td>\n",
       "    </tr>\n",
       "    <tr>\n",
       "      <th>1</th>\n",
       "      <td>0.001547</td>\n",
       "      <td>0.0</td>\n",
       "      <td>0.860717</td>\n",
       "      <td>0.001497</td>\n",
       "      <td>1.0</td>\n",
       "    </tr>\n",
       "    <tr>\n",
       "      <th>2</th>\n",
       "      <td>0.011958</td>\n",
       "      <td>0.0</td>\n",
       "      <td>0.839431</td>\n",
       "      <td>0.011950</td>\n",
       "      <td>1.0</td>\n",
       "    </tr>\n",
       "    <tr>\n",
       "      <th>3</th>\n",
       "      <td>0.042874</td>\n",
       "      <td>0.0</td>\n",
       "      <td>0.817634</td>\n",
       "      <td>0.042870</td>\n",
       "      <td>1.0</td>\n",
       "    </tr>\n",
       "    <tr>\n",
       "      <th>4</th>\n",
       "      <td>0.003248</td>\n",
       "      <td>0.0</td>\n",
       "      <td>0.816227</td>\n",
       "      <td>0.003188</td>\n",
       "      <td>1.0</td>\n",
       "    </tr>\n",
       "  </tbody>\n",
       "</table>\n",
       "</div>"
      ],
      "text/plain": [
       "          0    1         2         3    4\n",
       "0  0.005414  0.0  0.823219  0.005407  1.0\n",
       "1  0.001547  0.0  0.860717  0.001497  1.0\n",
       "2  0.011958  0.0  0.839431  0.011950  1.0\n",
       "3  0.042874  0.0  0.817634  0.042870  1.0\n",
       "4  0.003248  0.0  0.816227  0.003188  1.0"
      ]
     },
     "execution_count": 11,
     "metadata": {},
     "output_type": "execute_result"
    }
   ],
   "source": [
    "PE_SH.head()"
   ]
  },
  {
   "cell_type": "code",
   "execution_count": 13,
   "id": "fff0c978",
   "metadata": {},
   "outputs": [
    {
     "data": {
      "text/plain": [
       "1002"
      ]
     },
     "execution_count": 13,
     "metadata": {},
     "output_type": "execute_result"
    }
   ],
   "source": [
    "PE_I.columns.size"
   ]
  },
  {
   "cell_type": "code",
   "execution_count": 14,
   "id": "20e9d6f6",
   "metadata": {},
   "outputs": [
    {
     "data": {
      "text/plain": [
       "1001"
      ]
     },
     "execution_count": 14,
     "metadata": {},
     "output_type": "execute_result"
    }
   ],
   "source": [
    "PE_I = PE_I.drop(labels = \"hash\", axis = 1)\n",
    "PE_I.columns.size"
   ]
  },
  {
   "cell_type": "code",
   "execution_count": 15,
   "id": "b5d295aa",
   "metadata": {},
   "outputs": [],
   "source": [
    "from sklearn import svm\n",
    "from sklearn.model_selection import train_test_split\n",
    "from sklearn.model_selection import cross_val_score"
   ]
  },
  {
   "cell_type": "code",
   "execution_count": 16,
   "id": "c3437961",
   "metadata": {},
   "outputs": [
    {
     "data": {
      "text/plain": [
       "(43293, 4)"
      ]
     },
     "execution_count": 16,
     "metadata": {},
     "output_type": "execute_result"
    }
   ],
   "source": [
    "X = PE_SH.iloc[:, 0:PE_SH.columns.size - 1]\n",
    "X.shape"
   ]
  },
  {
   "cell_type": "code",
   "execution_count": 17,
   "id": "99d28ef1",
   "metadata": {},
   "outputs": [
    {
     "data": {
      "text/plain": [
       "1.0    41568\n",
       "0.0     1725\n",
       "Name: 4, dtype: int64"
      ]
     },
     "execution_count": 17,
     "metadata": {},
     "output_type": "execute_result"
    }
   ],
   "source": [
    "Y = PE_SH.iloc[:, -1]\n",
    "Y.value_counts()"
   ]
  },
  {
   "cell_type": "code",
   "execution_count": 18,
   "id": "6b6e6fb6",
   "metadata": {},
   "outputs": [],
   "source": [
    "X_train, X_test, Y_train, Y_test = train_test_split(X, Y, test_size=0.2, random_state=42) "
   ]
  },
  {
   "cell_type": "code",
   "execution_count": 19,
   "id": "770b90d6",
   "metadata": {},
   "outputs": [
    {
     "data": {
      "text/plain": [
       "((34634, 4), (8659, 4), (34634,), (8659,))"
      ]
     },
     "execution_count": 19,
     "metadata": {},
     "output_type": "execute_result"
    }
   ],
   "source": [
    "X_train.shape, X_test.shape, Y_train.shape, Y_test.shape"
   ]
  },
  {
   "cell_type": "code",
   "execution_count": 20,
   "id": "b0b05c72",
   "metadata": {},
   "outputs": [],
   "source": [
    "linear_svm = svm.SVC(kernel='linear')"
   ]
  },
  {
   "cell_type": "code",
   "execution_count": 21,
   "id": "fd097575",
   "metadata": {},
   "outputs": [
    {
     "data": {
      "text/plain": [
       "SVC(kernel='linear')"
      ]
     },
     "execution_count": 21,
     "metadata": {},
     "output_type": "execute_result"
    }
   ],
   "source": [
    "linear_svm.fit(X_train, Y_train)"
   ]
  },
  {
   "cell_type": "code",
   "execution_count": 22,
   "id": "9ffb8d1a",
   "metadata": {},
   "outputs": [
    {
     "data": {
      "text/plain": [
       "0.9631597182122646"
      ]
     },
     "execution_count": 22,
     "metadata": {},
     "output_type": "execute_result"
    }
   ],
   "source": [
    "linear_svm.score(X_test, Y_test)"
   ]
  },
  {
   "cell_type": "code",
   "execution_count": 24,
   "id": "cf700165",
   "metadata": {},
   "outputs": [
    {
     "data": {
      "text/plain": [
       "array([1., 1., 1., ..., 1., 1., 1.])"
      ]
     },
     "execution_count": 24,
     "metadata": {},
     "output_type": "execute_result"
    }
   ],
   "source": [
    "Y_pred = linear_svm.predict(X_test)\n",
    "Y_pred"
   ]
  },
  {
   "cell_type": "code",
   "execution_count": 25,
   "id": "23af8c14",
   "metadata": {},
   "outputs": [
    {
     "name": "stdout",
     "output_type": "stream",
     "text": [
      "Predicted   1.0\n",
      "Actual         \n",
      "0.0         319\n",
      "1.0        8340\n"
     ]
    }
   ],
   "source": [
    "confusion_matrix = pd.crosstab(Y_test, Y_pred, rownames=['Actual'], colnames=['Predicted'])\n",
    "print (confusion_matrix)"
   ]
  },
  {
   "cell_type": "code",
   "execution_count": 26,
   "id": "4913cfc2",
   "metadata": {},
   "outputs": [
    {
     "name": "stdout",
     "output_type": "stream",
     "text": [
      "training accuracy (0.9594040538199458),  test's accuracy(0.9631597182122646). \n",
      "There isn't overfitting.\n"
     ]
    }
   ],
   "source": [
    "if linear_svm.score(X_train, Y_train)>linear_svm.score(X_test, Y_test):\n",
    "    print(f\"training accuracy ({linear_svm.score(X_train, Y_train)}) is greater than the test's({linear_svm.score(X_test, Y_test)}). \\nThere is overfitting.\")\n",
    "else: \n",
    "    print(f\"training accuracy ({linear_svm.score(X_train, Y_train)}),  test's accuracy({linear_svm.score(X_test, Y_test)}). \\nThere isn't overfitting.\")"
   ]
  },
  {
   "cell_type": "code",
   "execution_count": 27,
   "id": "12ac7840",
   "metadata": {},
   "outputs": [],
   "source": [
    "import sklearn.tree as tree\n",
    "from sklearn.tree import DecisionTreeClassifier"
   ]
  },
  {
   "cell_type": "code",
   "execution_count": 28,
   "id": "5ead5416",
   "metadata": {},
   "outputs": [
    {
     "data": {
      "text/plain": [
       "(47580, 1000)"
      ]
     },
     "execution_count": 28,
     "metadata": {},
     "output_type": "execute_result"
    }
   ],
   "source": [
    "X = PE_I.iloc[:, 0:PE_I.columns.size - 1]\n",
    "X.shape"
   ]
  },
  {
   "cell_type": "code",
   "execution_count": 29,
   "id": "06e6cf4c",
   "metadata": {},
   "outputs": [
    {
     "data": {
      "text/plain": [
       "(47580,)"
      ]
     },
     "execution_count": 29,
     "metadata": {},
     "output_type": "execute_result"
    }
   ],
   "source": [
    "Y = PE_I.iloc[:, -1]\n",
    "Y.shape"
   ]
  },
  {
   "cell_type": "code",
   "execution_count": 30,
   "id": "d82a0c35",
   "metadata": {},
   "outputs": [],
   "source": [
    "X_train, X_test, Y_train, Y_test = train_test_split(X, Y, test_size=0.15, random_state=42) "
   ]
  },
  {
   "cell_type": "code",
   "execution_count": 31,
   "id": "8c3e984b",
   "metadata": {},
   "outputs": [
    {
     "data": {
      "text/plain": [
       "((40443, 1000), (7137, 1000), (40443,), (7137,))"
      ]
     },
     "execution_count": 31,
     "metadata": {},
     "output_type": "execute_result"
    }
   ],
   "source": [
    "X_train.shape, X_test.shape, Y_train.shape, Y_test.shape"
   ]
  },
  {
   "cell_type": "code",
   "execution_count": 32,
   "id": "e5487744",
   "metadata": {},
   "outputs": [],
   "source": [
    "entropy_tree_classifier = DecisionTreeClassifier(criterion='entropy')\n",
    "tree_classifier = DecisionTreeClassifier()"
   ]
  },
  {
   "cell_type": "code",
   "execution_count": 33,
   "id": "89b2778a",
   "metadata": {},
   "outputs": [
    {
     "data": {
      "text/plain": [
       "DecisionTreeClassifier()"
      ]
     },
     "execution_count": 33,
     "metadata": {},
     "output_type": "execute_result"
    }
   ],
   "source": [
    "entropy_tree_classifier.fit(X_train, Y_train)\n",
    "tree_classifier.fit(X_train, Y_train)"
   ]
  },
  {
   "cell_type": "code",
   "execution_count": 34,
   "id": "3d16c836",
   "metadata": {},
   "outputs": [
    {
     "data": {
      "text/plain": [
       "(0.9747793190416141, 0.9773013871374527)"
      ]
     },
     "execution_count": 34,
     "metadata": {},
     "output_type": "execute_result"
    }
   ],
   "source": [
    "entropy_tree_classifier.score(X_test, Y_test), tree_classifier.score(X_test, Y_test)"
   ]
  },
  {
   "cell_type": "code",
   "execution_count": 35,
   "id": "4dc767f1",
   "metadata": {},
   "outputs": [
    {
     "data": {
      "text/plain": [
       "(7137, (7137, 1000))"
      ]
     },
     "execution_count": 35,
     "metadata": {},
     "output_type": "execute_result"
    }
   ],
   "source": [
    "Y_pred = entropy_tree_classifier.predict(X_test)\n",
    "Y_pred.size, X_test.shape"
   ]
  },
  {
   "cell_type": "code",
   "execution_count": 36,
   "id": "d97a2d18",
   "metadata": {},
   "outputs": [
    {
     "name": "stdout",
     "output_type": "stream",
     "text": [
      "Predicted    0     1\n",
      "Actual              \n",
      "0          173   116\n",
      "1           64  6784\n"
     ]
    }
   ],
   "source": [
    "confusion_matrix = pd.crosstab(Y_test, Y_pred, rownames=['Actual'], colnames=['Predicted'])\n",
    "print (confusion_matrix)"
   ]
  },
  {
   "cell_type": "code",
   "execution_count": 38,
   "id": "0222a251",
   "metadata": {},
   "outputs": [
    {
     "name": "stdout",
     "output_type": "stream",
     "text": [
      "training accuracy (0.9905546077195064) is greater than the test's(0.9747793190416141). \n",
      "There is overfitting.\n"
     ]
    }
   ],
   "source": [
    "if entropy_tree_classifier.score(X_train, Y_train)>entropy_tree_classifier.score(X_test, Y_test):\n",
    "    print(f\"training accuracy ({entropy_tree_classifier.score(X_train, Y_train)}) is greater than the test's({entropy_tree_classifier.score(X_test, Y_test)}). \\nThere is overfitting.\")\n",
    "else: \n",
    "    print(f\"training accuracy ({entropy_tree_classifier.score(X_train, Y_train)}),  test's accuracy({entropy_tree_classifier.score(X_test, Y_test)}). \\nThere isn't overfitting.\")"
   ]
  },
  {
   "cell_type": "code",
   "execution_count": null,
   "id": "2539b0c7",
   "metadata": {},
   "outputs": [],
   "source": []
  }
 ],
 "metadata": {
  "kernelspec": {
   "display_name": "Python 3",
   "language": "python",
   "name": "python3"
  },
  "language_info": {
   "codemirror_mode": {
    "name": "ipython",
    "version": 3
   },
   "file_extension": ".py",
   "mimetype": "text/x-python",
   "name": "python",
   "nbconvert_exporter": "python",
   "pygments_lexer": "ipython3",
   "version": "3.7.9"
  }
 },
 "nbformat": 4,
 "nbformat_minor": 5
}
